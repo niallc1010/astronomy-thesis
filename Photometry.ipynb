{
 "cells": [
  {
   "cell_type": "code",
   "execution_count": 1,
   "id": "f20dc16c",
   "metadata": {},
   "outputs": [],
   "source": [
    "import numpy as np\n",
    "import matplotlib.pyplot as plt\n",
    "import matplotlib.patches as patches\n",
    "%matplotlib inline\n",
    "from astropy.stats import sigma_clipped_stats, mad_std\n",
    "from photutils import DAOStarFinder, CircularAperture, aperture_photometry, CircularAnnulus\n",
    "from astropy.io import fits\n",
    "from astropy.visualization import SqrtStretch\n",
    "from astropy.visualization.mpl_normalize import ImageNormalize\n",
    "import astropy.io.fits as pf\n",
    "plt.rcParams['figure.figsize'] = (15,9)"
   ]
  },
  {
   "cell_type": "code",
   "execution_count": 2,
   "id": "46a74578",
   "metadata": {},
   "outputs": [],
   "source": [
    "p1_coords = np.loadtxt('position1_coords.txt')\n",
    "p2_coords = np.loadtxt('position2_coords.txt')\n",
    "refstar1_coords = np.loadtxt('refstar1_coords.txt')\n",
    "refstar2_coords = np.loadtxt('refstar2_coords.txt')"
   ]
  },
  {
   "cell_type": "code",
   "execution_count": 3,
   "id": "9a31fdbc",
   "metadata": {},
   "outputs": [],
   "source": [
    "apsize1 = np.loadtxt('aperture_size_1.txt')\n",
    "apsize2 = np.loadtxt('aperture_size_2.txt')\n",
    "ref1_apsize = np.loadtxt('ref1_apsize.txt')\n",
    "ref2_apsize = np.loadtxt('ref2_apsize.txt')"
   ]
  },
  {
   "cell_type": "code",
   "execution_count": 4,
   "id": "b04e5b77",
   "metadata": {},
   "outputs": [],
   "source": [
    "def magnitude(filename, asteroid_position, aperture_size):\n",
    "    image = pf.getdata(filename)\n",
    "    positions = asteroid_position\n",
    "    aperture = CircularAperture(positions, r = aperture_size)\n",
    "    annulus_aperture = CircularAnnulus(positions, r_in = 20, r_out = 30)\n",
    "    apers = [aperture, annulus_aperture]\n",
    "    phot_table = aperture_photometry(image, apers)\n",
    "    bkg_mean = phot_table['aperture_sum_1'] / annulus_aperture.area\n",
    "    bkg_total = bkg_mean * aperture.area\n",
    "    net_star = phot_table['aperture_sum_0'] - bkg_total\n",
    "    \n",
    "    snr = net_star/np.sqrt(net_star + bkg_total)\n",
    "    \n",
    "    mag_err = 2.5*np.log10(1+(1/snr))\n",
    "\n",
    "    magnitudes = -2.5 * np.log10(net_star)\n",
    "    \n",
    "    return np.array([magnitudes[0], mag_err[0]])"
   ]
  },
  {
   "cell_type": "code",
   "execution_count": null,
   "id": "f9380714",
   "metadata": {},
   "outputs": [],
   "source": []
  },
  {
   "cell_type": "code",
   "execution_count": 5,
   "id": "a291ce74",
   "metadata": {},
   "outputs": [],
   "source": [
    "mags1 = np.array([magnitude('red_asteroid/reduced_ucd_0'+str(i)+'.fits', p1_coords[i-222], apsize1[i-222]) for i in range(222,285)])\n",
    "mags2 = np.array([magnitude('red_asteroid/reduced_ucd_0'+str(i)+'.fits', p2_coords[i-285], apsize2[i-285]) for i in range(285,336)])\n",
    "refmags = np.array([magnitude('red_asteroid/reduced_ucd_0'+str(i)+'.fits', refstar1_coords[i-222], ref1_apsize[i-222]) for i in range(222,285)])\n",
    "refmags2 = np.array([magnitude('red_asteroid/reduced_ucd_0'+str(i)+'.fits', refstar2_coords[i-285], ref2_apsize[i-285]) for i in range(285,336)])"
   ]
  },
  {
   "cell_type": "code",
   "execution_count": 6,
   "id": "79fd02c3",
   "metadata": {},
   "outputs": [],
   "source": [
    "allmags = np.concatenate((mags1, mags2))\n",
    "allrefs = np.concatenate((refmags, refmags2))"
   ]
  },
  {
   "cell_type": "code",
   "execution_count": 105,
   "id": "832a2cbf",
   "metadata": {},
   "outputs": [],
   "source": [
    "np.savetxt('magnitudes.txt', allmags)"
   ]
  },
  {
   "cell_type": "markdown",
   "id": "e5181921",
   "metadata": {},
   "source": [
    "### finding 'apparent magnitude' to determine colour"
   ]
  },
  {
   "cell_type": "code",
   "execution_count": 7,
   "id": "fc4616da",
   "metadata": {},
   "outputs": [
    {
     "data": {
      "text/plain": [
       "-11.348784193762922"
      ]
     },
     "execution_count": 7,
     "metadata": {},
     "output_type": "execute_result"
    }
   ],
   "source": [
    "allrefs[0,0]"
   ]
  },
  {
   "cell_type": "code",
   "execution_count": 9,
   "id": "be3f3aa2",
   "metadata": {},
   "outputs": [],
   "source": [
    "refVmag = 14.976\n",
    "refVerr = 0.023\n",
    "refBmag = 16.098 \n",
    "refBerr = 0.074\n",
    "r = 14.621\n",
    "rerr = 0.042\n",
    "I = 14.307\n",
    "Ierr = 0.056"
   ]
  },
  {
   "cell_type": "code",
   "execution_count": 10,
   "id": "a22fc199",
   "metadata": {},
   "outputs": [],
   "source": [
    "def ri2R(r, i, r_err, i_err):\n",
    "    R = r - 0.2936 * (r - i) - 0.1439\n",
    "    R_err = (R * (np.sqrt((r_err/r)**2 + (i_err/i)**2))) + 0.0072\n",
    "    return np.array([R, abs(R_err)])"
   ]
  },
  {
   "cell_type": "code",
   "execution_count": 11,
   "id": "a487beff",
   "metadata": {},
   "outputs": [
    {
     "data": {
      "text/plain": [
       "array([14.3849096 ,  0.07704082])"
      ]
     },
     "execution_count": 11,
     "metadata": {},
     "output_type": "execute_result"
    }
   ],
   "source": [
    "refRmag = ri2R(r,I,rerr,Ierr)\n",
    "refRmag"
   ]
  },
  {
   "cell_type": "code",
   "execution_count": 12,
   "id": "80589516",
   "metadata": {},
   "outputs": [],
   "source": [
    "zpV1 = [refVmag - allrefs[0,0]]\n",
    "zpV2 = [refVmag - allrefs[i,0] for i in range(225-222,285-222)]\n",
    "zpV3 = [refVmag - allrefs[i,0] for i in range(287-222, 336-222)]\n",
    "allZPV = np.concatenate((zpV1, zpV2, zpV3))\n",
    "finalZPV = np.mean(allZPV)\n",
    "\n",
    "ZPV_err = np.std(allZPV)"
   ]
  },
  {
   "cell_type": "code",
   "execution_count": 13,
   "id": "43a829a3",
   "metadata": {},
   "outputs": [
    {
     "data": {
      "text/plain": [
       "0.046924452324514476"
      ]
     },
     "execution_count": 13,
     "metadata": {},
     "output_type": "execute_result"
    }
   ],
   "source": [
    "ZPR = [refRmag[0] - allrefs[i,0] for i in (224-222,286-222)]\n",
    "finalZPR = np.mean(ZPR)\n",
    "finalZPR\n",
    "\n",
    "ZPR_err = np.std(ZPR)\n",
    "ZPR_err"
   ]
  },
  {
   "cell_type": "code",
   "execution_count": 14,
   "id": "a8d6edbd",
   "metadata": {},
   "outputs": [
    {
     "data": {
      "text/plain": [
       "0.0483587376911494"
      ]
     },
     "execution_count": 14,
     "metadata": {},
     "output_type": "execute_result"
    }
   ],
   "source": [
    "ZPB = [refBmag - allrefs[i,0] for i in (223-222,285-222)]\n",
    "finalZPB = np.mean(ZPB)\n",
    "finalZPB\n",
    "\n",
    "ZPB_err = np.std(ZPB)\n",
    "ZPB_err"
   ]
  },
  {
   "cell_type": "code",
   "execution_count": 15,
   "id": "946fc74d",
   "metadata": {},
   "outputs": [],
   "source": [
    "V1 = np.array([allmags[0,0] + finalZPV, np.abs(allmags[0,1])+np.abs(ZPV_err)])\n",
    "V2 = np.array([allmags[284-222,0] + finalZPV, np.abs(allmags[284-222,1])+np.abs(ZPV_err)])\n",
    "\n",
    "B1 = np.array([allmags[1,0] + finalZPB, np.abs(allmags[1,1])+np.abs(ZPB_err)])\n",
    "B2 = np.array([allmags[285-222,0] + finalZPB, np.abs(allmags[285-222,1])+np.abs(ZPB_err)])\n",
    "\n",
    "R1 = np.array([allmags[2,0] + finalZPR, np.abs(allmags[2,1])+np.abs(ZPR_err)])\n",
    "R2 = np.array([allmags[286-222,0] + finalZPR, np.abs(allmags[286-222,1])+np.abs(ZPR_err)])"
   ]
  },
  {
   "cell_type": "code",
   "execution_count": 27,
   "id": "a0f7a6ac",
   "metadata": {},
   "outputs": [
    {
     "data": {
      "text/plain": [
       "array([15.84437188,  0.05680174])"
      ]
     },
     "execution_count": 27,
     "metadata": {},
     "output_type": "execute_result"
    }
   ],
   "source": [
    "B2"
   ]
  },
  {
   "cell_type": "code",
   "execution_count": 17,
   "id": "5b35ab2d",
   "metadata": {},
   "outputs": [
    {
     "data": {
      "text/plain": [
       "array([-1.05534538,  0.21743943])"
      ]
     },
     "execution_count": 17,
     "metadata": {},
     "output_type": "execute_result"
    }
   ],
   "source": [
    "VB1 = np.array([V1[0] - B1[0], np.abs(V1[1]) + np.abs(B1[1])])\n",
    "VB1"
   ]
  },
  {
   "cell_type": "code",
   "execution_count": 18,
   "id": "c2629c53",
   "metadata": {},
   "outputs": [
    {
     "data": {
      "text/plain": [
       "array([-0.96728963,  0.2176565 ])"
      ]
     },
     "execution_count": 18,
     "metadata": {},
     "output_type": "execute_result"
    }
   ],
   "source": [
    "VB2 = np.array([V2[0] - B2[0], np.abs(V2[1]) + np.abs(B2[1])])\n",
    "VB2"
   ]
  },
  {
   "cell_type": "code",
   "execution_count": 19,
   "id": "06e52cd9",
   "metadata": {},
   "outputs": [
    {
     "data": {
      "text/plain": [
       "array([0.22034807, 0.21196538])"
      ]
     },
     "execution_count": 19,
     "metadata": {},
     "output_type": "execute_result"
    }
   ],
   "source": [
    "VR1 = np.array([V1[0] - R1[0], np.abs(V1[1]) + np.abs(R1[1])])\n",
    "VR1"
   ]
  },
  {
   "cell_type": "code",
   "execution_count": 20,
   "id": "26f874e7",
   "metadata": {},
   "outputs": [
    {
     "data": {
      "text/plain": [
       "array([0.4593627 , 0.21202067])"
      ]
     },
     "execution_count": 20,
     "metadata": {},
     "output_type": "execute_result"
    }
   ],
   "source": [
    "VR2 = np.array([V2[0] - R2[0], np.abs(V2[1]) + np.abs(R2[1])])\n",
    "VR2"
   ]
  },
  {
   "cell_type": "code",
   "execution_count": 21,
   "id": "8c79c20f",
   "metadata": {},
   "outputs": [
    {
     "data": {
      "text/plain": [
       "array([1.27569345, 0.10817435])"
      ]
     },
     "execution_count": 21,
     "metadata": {},
     "output_type": "execute_result"
    }
   ],
   "source": [
    "BR1 = np.array([B1[0] - R1[0], np.abs(B1[1]) + np.abs(R1[1])])\n",
    "BR1"
   ]
  },
  {
   "cell_type": "code",
   "execution_count": 22,
   "id": "871d8ab7",
   "metadata": {},
   "outputs": [
    {
     "data": {
      "text/plain": [
       "array([1.42665233, 0.10796765])"
      ]
     },
     "execution_count": 22,
     "metadata": {},
     "output_type": "execute_result"
    }
   ],
   "source": [
    "BR2 = np.array([B2[0] - R2[0], np.abs(B2[1]) + np.abs(R2[1])])\n",
    "BR2"
   ]
  },
  {
   "cell_type": "markdown",
   "id": "9193a34a",
   "metadata": {},
   "source": [
    "### Differential photometry for lightcurve"
   ]
  },
  {
   "cell_type": "code",
   "execution_count": 250,
   "id": "d26dc162",
   "metadata": {},
   "outputs": [],
   "source": [
    "def DiffPhot(ast_mag, ast_err, ref_mag, ref_err):\n",
    "    DF = ref_mag - ast_mag\n",
    "    DFerr = np.abs(ref_err) + np.abs(ast_err)\n",
    "    return [DF, DFerr]"
   ]
  },
  {
   "cell_type": "code",
   "execution_count": 251,
   "id": "09240ee2",
   "metadata": {},
   "outputs": [],
   "source": [
    "diff = np.array([DiffPhot(allmags[i][0], allmags[i][1], allrefs[i][0], allrefs[i][1]) for i in range(len(allmags))])"
   ]
  },
  {
   "cell_type": "code",
   "execution_count": 252,
   "id": "b2ce4458",
   "metadata": {},
   "outputs": [],
   "source": [
    "np.savetxt('diff_magnitudes.txt', diff)"
   ]
  }
 ],
 "metadata": {
  "kernelspec": {
   "display_name": "Python 3",
   "language": "python",
   "name": "python3"
  },
  "language_info": {
   "codemirror_mode": {
    "name": "ipython",
    "version": 3
   },
   "file_extension": ".py",
   "mimetype": "text/x-python",
   "name": "python",
   "nbconvert_exporter": "python",
   "pygments_lexer": "ipython3",
   "version": "3.7.3"
  }
 },
 "nbformat": 4,
 "nbformat_minor": 5
}
