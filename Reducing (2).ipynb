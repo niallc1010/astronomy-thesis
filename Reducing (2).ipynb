{
 "cells": [
  {
   "cell_type": "code",
   "execution_count": 2,
   "id": "6b9bfba5",
   "metadata": {},
   "outputs": [],
   "source": [
    "import os\n",
    "import numpy as np\n",
    "import matplotlib.pyplot as plt\n",
    "from astropy.io import fits\n",
    "from astropy.wcs import WCS\n",
    "plt.rcParams[\"figure.figsize\"] = (15,10)\n",
    "%matplotlib inline"
   ]
  },
  {
   "cell_type": "code",
   "execution_count": 2,
   "id": "b4ebb986",
   "metadata": {},
   "outputs": [],
   "source": [
    "bias_open1 = []\n",
    "for i in range(92,100):\n",
    "    im = fits.open('bias/UCD_00%.f.fits' % i)\n",
    "    bias_open1.append(im[0].data[550:1250,600:1400])"
   ]
  },
  {
   "cell_type": "code",
   "execution_count": 3,
   "id": "8fe5f635",
   "metadata": {},
   "outputs": [],
   "source": [
    "#x -> 550:1250\n",
    "#y -> 600:1400"
   ]
  },
  {
   "cell_type": "code",
   "execution_count": 4,
   "id": "5c5a376e",
   "metadata": {},
   "outputs": [
    {
     "data": {
      "text/plain": [
       "(8, 700, 800)"
      ]
     },
     "execution_count": 4,
     "metadata": {},
     "output_type": "execute_result"
    }
   ],
   "source": [
    "np.shape(bias_open1)"
   ]
  },
  {
   "cell_type": "code",
   "execution_count": 5,
   "id": "53cb5d05",
   "metadata": {},
   "outputs": [],
   "source": [
    "bias_open2 = []\n",
    "for i in range(100,113):\n",
    "    im = fits.open('bias/UCD_0%.f.fits' % i)\n",
    "    bias_open2.append(im[0].data[550:1250,600:1400])"
   ]
  },
  {
   "cell_type": "code",
   "execution_count": 6,
   "id": "3bd971d4",
   "metadata": {},
   "outputs": [
    {
     "data": {
      "text/plain": [
       "(13, 700, 800)"
      ]
     },
     "execution_count": 6,
     "metadata": {},
     "output_type": "execute_result"
    }
   ],
   "source": [
    "np.shape(bias_open2)"
   ]
  },
  {
   "cell_type": "code",
   "execution_count": 9,
   "id": "cfebc53e",
   "metadata": {},
   "outputs": [],
   "source": [
    "bias_open3 = []\n",
    "for i in range(114,133):\n",
    "    im = fits.open('bias/UCD_0%.f.fits' % i)\n",
    "    bias_open3.append(im[0].data[1700:2400,1700:2500])"
   ]
  },
  {
   "cell_type": "code",
   "execution_count": 10,
   "id": "e0df6df6",
   "metadata": {},
   "outputs": [
    {
     "data": {
      "text/plain": [
       "(19, 700, 800)"
      ]
     },
     "execution_count": 10,
     "metadata": {},
     "output_type": "execute_result"
    }
   ],
   "source": [
    "np.shape(bias_open3)"
   ]
  },
  {
   "cell_type": "code",
   "execution_count": 11,
   "id": "52fb6632",
   "metadata": {},
   "outputs": [],
   "source": [
    "bias = np.concatenate((bias_open1, bias_open2, bias_open3))"
   ]
  },
  {
   "cell_type": "code",
   "execution_count": 12,
   "id": "dd85ea8c",
   "metadata": {},
   "outputs": [],
   "source": [
    "masterbias = np.average(bias, axis=0)\n",
    "newheader = fits.PrimaryHDU(masterbias)\n",
    "newheader.writeto('masterbias.fits', overwrite=True)"
   ]
  },
  {
   "cell_type": "code",
   "execution_count": 3,
   "id": "d8bb9dea",
   "metadata": {},
   "outputs": [],
   "source": [
    "masterbias = fits.getdata('masterbias.fits')"
   ]
  },
  {
   "cell_type": "code",
   "execution_count": 20,
   "id": "54452810",
   "metadata": {},
   "outputs": [
    {
     "data": {
      "text/plain": [
       "<matplotlib.image.AxesImage at 0x1ae199840b8>"
      ]
     },
     "execution_count": 20,
     "metadata": {},
     "output_type": "execute_result"
    },
    {
     "data": {
      "image/png": "[encoded data removed]",
      "text/plain": [
       "<Figure size 432x288 with 1 Axes>"
      ]
     },
     "metadata": {
      "needs_background": "light"
     },
     "output_type": "display_data"
    }
   ],
   "source": [
    "plt.imshow(masterbias[0].data)"
   ]
  },
  {
   "cell_type": "code",
   "execution_count": 10,
   "id": "67063dae",
   "metadata": {},
   "outputs": [],
   "source": [
    "Vflats_open = [fits.open('FlatV/UCD_00%.f.fits' % i) for i in range(72,82)]\n",
    "Vflats = [Vflats_open[i][0].data[550:1250,600:1400] for i in range(len(Vflats_open))]\n",
    "rVflats = [Vflats[i] - masterbias[0].data for i in range(10)]\n",
    "masterflatV = np.average(rVflats, axis=0)\n",
    "masterflatV_norm = masterflatV/(masterflatV[325:375,375:425].mean())\n",
    "\n",
    "newheader  = fits.PrimaryHDU(masterflatV_norm)\n",
    "newheader.writeto(\"masterflatV.fits\", overwrite = True)"
   ]
  },
  {
   "cell_type": "code",
   "execution_count": 11,
   "id": "6f9a3014",
   "metadata": {},
   "outputs": [],
   "source": [
    "Bflats_open = [fits.open('FlatB/UCD_00%.f.fits' % i) for i in range(82,92)]\n",
    "Bflats = [Bflats_open[i][0].data[550:1250,600:1400] for i in range(len(Bflats_open))]\n",
    "rBflats = [Bflats[i] - masterbias[0].data for i in range(len(Bflats))]\n",
    "masterflatB = np.average(rBflats, axis=0)\n",
    "masterflatB_norm = masterflatB/masterflatB[325:375,375:425].mean()\n",
    "\n",
    "newheader  = fits.PrimaryHDU(masterflatB_norm)\n",
    "newheader.writeto(\"masterflatB.fits\", overwrite = True)"
   ]
  },
  {
   "cell_type": "code",
   "execution_count": 12,
   "id": "2a9f9f5b",
   "metadata": {},
   "outputs": [],
   "source": [
    "Rflats_open = [fits.open('FlatR/UCD_0%.f.fits' % i) for i in range(374,384)]\n",
    "Rflats = [Rflats_open[i][0].data[550:1250,600:1400] for i in range(len(Rflats_open))]\n",
    "rRflats = [Rflats[i] - masterbias[0].data for i in range(len(Rflats))]\n",
    "masterflatR = np.average(rRflats, axis=0)\n",
    "masterflatR_norm = masterflatR/masterflatR[325:375,375:425].mean()\n",
    "\n",
    "newheader  = fits.PrimaryHDU(masterflatR_norm)\n",
    "newheader.writeto(\"masterflatR.fits\", overwrite = True)"
   ]
  },
  {
   "cell_type": "code",
   "execution_count": 4,
   "id": "d7b0916a",
   "metadata": {},
   "outputs": [],
   "source": [
    "masterflatV = fits.getdata('masterflatV.fits')\n",
    "masterflatR = fits.getdata('masterflatR.fits')\n",
    "masterflatB = fits.getdata('masterflatB.fits')"
   ]
  },
  {
   "cell_type": "code",
   "execution_count": 5,
   "id": "14e3b40a",
   "metadata": {},
   "outputs": [],
   "source": [
    "#Reducing Vband images\n",
    "im = fits.open('asteroid/UCD_0222.fits')\n",
    "image = im[0].data[550:1250,600:1400]\n",
    "reduced = image - (masterbias/masterflatV)\n",
    "newheader = fits.PrimaryHDU(reduced)\n",
    "newheader.writeto(\"red_asteroid/reduced_UCD_0222.fits\", overwrite = True)\n",
    "\n",
    "for i in range(225,285):\n",
    "    im = fits.open('asteroid/UCD_0%.f.fits' % i)\n",
    "    image = im[0].data[550:1250,600:1400]\n",
    "    reduced = image - (masterbias/masterflatV)\n",
    "    newheader = fits.PrimaryHDU(reduced)\n",
    "    newheader.writeto(\"red_asteroid/reduced_UCD_0\"+str(i)+\".fits\", overwrite = True)\n",
    "for i in range(287,338):\n",
    "    im = fits.open('asteroid/UCD_0%.f.fits' % i)\n",
    "    image = im[0].data[550:1250,600:1400]\n",
    "    reduced = image - (masterbias/masterflatV)\n",
    "    newheader = fits.PrimaryHDU(reduced)\n",
    "    newheader.writeto(\"red_asteroid/reduced_UCD_0\"+str(i)+\".fits\", overwrite = True)"
   ]
  },
  {
   "cell_type": "code",
   "execution_count": 8,
   "id": "2cd348fb",
   "metadata": {},
   "outputs": [],
   "source": [
    "#Reducing Bband images\n",
    "\n",
    "for i in (223,285):\n",
    "    im = fits.open('asteroid/B/UCD_0%.f.fits' % i)\n",
    "    image = im[0].data[550:1250,600:1400]\n",
    "    reduced = image - (masterbias/masterflatB)\n",
    "    newheader = fits.PrimaryHDU(reduced)\n",
    "    newheader.writeto(\"red_asteroid/reduced_UCD_0\"+str(i)+\".fits\", overwrite = True)"
   ]
  },
  {
   "cell_type": "code",
   "execution_count": 9,
   "id": "3a4a6b4e",
   "metadata": {},
   "outputs": [],
   "source": [
    "#Reducing Rband images\n",
    "\n",
    "for i in (224,286):\n",
    "    im = fits.open('asteroid/R/UCD_0%.f.fits' % i)\n",
    "    image = im[0].data[550:1250,600:1400]\n",
    "    reduced = image - (masterbias/masterflatR)\n",
    "    newheader = fits.PrimaryHDU(reduced)\n",
    "    newheader.writeto(\"red_asteroid/reduced_UCD_0\"+str(i)+\".fits\", overwrite = True)"
   ]
  }
 ],
 "metadata": {
  "kernelspec": {
   "display_name": "Python 3",
   "language": "python",
   "name": "python3"
  },
  "language_info": {
   "codemirror_mode": {
    "name": "ipython",
    "version": 3
   },
   "file_extension": ".py",
   "mimetype": "text/x-python",
   "name": "python",
   "nbconvert_exporter": "python",
   "pygments_lexer": "ipython3",
   "version": "3.7.3"
  }
 },
 "nbformat": 4,
 "nbformat_minor": 5
}
