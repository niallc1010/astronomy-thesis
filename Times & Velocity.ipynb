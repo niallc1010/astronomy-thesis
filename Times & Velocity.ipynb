{
 "cells": [
  {
   "cell_type": "code",
   "execution_count": 1,
   "id": "2407b91c",
   "metadata": {},
   "outputs": [],
   "source": [
    "from astropy import units as u\n",
    "from astropy.coordinates import SkyCoord\n",
    "import pandas as pd\n",
    "import astropy.io.fits as pf\n",
    "import numpy as np\n",
    "from astropy.wcs import WCS\n",
    "import matplotlib\n",
    "import matplotlib.pyplot as plt\n",
    "from matplotlib.colors import LogNorm\n",
    "%matplotlib inline\n",
    "matplotlib.rc('image', origin='lower', interpolation='nearest')\n",
    "from scipy.optimize import curve_fit, leastsq\n",
    "from scipy.interpolate import splrep, sproot, splev\n",
    "from scipy.signal import find_peaks, peak_widths\n",
    "from scipy.stats import norm\n",
    "plt.rcParams['figure.figsize'] = (15,9)"
   ]
  },
  {
   "cell_type": "code",
   "execution_count": 4,
   "id": "5a02580e",
   "metadata": {},
   "outputs": [],
   "source": [
    "def utc2time(image):\n",
    "    im = pf.open(image)\n",
    "    date = im[0].header['DATE-OBS'].split('T')\n",
    "    h = date[1].split(':')\n",
    "    utc = [int(h[0]), int(h[1])]\n",
    "    if utc[0] == 1:\n",
    "        return utc[1]-8\n",
    "    elif utc[0] == 2:\n",
    "        return 60 + utc[1]-13\n",
    "    elif utc[0] == 3:\n",
    "        return 120 + utc[1]-13\n",
    "    else:\n",
    "        print('error')"
   ]
  },
  {
   "cell_type": "code",
   "execution_count": 2,
   "id": "75b84402",
   "metadata": {},
   "outputs": [
    {
     "ename": "NameError",
     "evalue": "name 'utc2time' is not defined",
     "output_type": "error",
     "traceback": [
      "\u001b[1;31m---------------------------------------------------------------------------\u001b[0m",
      "\u001b[1;31mNameError\u001b[0m                                 Traceback (most recent call last)",
      "\u001b[1;32m<ipython-input-2-ce695aa9f6fd>\u001b[0m in \u001b[0;36m<module>\u001b[1;34m\u001b[0m\n\u001b[1;32m----> 1\u001b[1;33m \u001b[0mtimes\u001b[0m \u001b[1;33m=\u001b[0m \u001b[0mnp\u001b[0m\u001b[1;33m.\u001b[0m\u001b[0marray\u001b[0m\u001b[1;33m(\u001b[0m\u001b[1;33m[\u001b[0m\u001b[0mutc2time\u001b[0m\u001b[1;33m(\u001b[0m\u001b[1;34m'asteroid/UCD_0'\u001b[0m\u001b[1;33m+\u001b[0m\u001b[0mstr\u001b[0m\u001b[1;33m(\u001b[0m\u001b[0mi\u001b[0m\u001b[1;33m)\u001b[0m\u001b[1;33m+\u001b[0m\u001b[1;34m'.fits'\u001b[0m\u001b[1;33m)\u001b[0m \u001b[1;32mfor\u001b[0m \u001b[0mi\u001b[0m \u001b[1;32min\u001b[0m \u001b[0mrange\u001b[0m\u001b[1;33m(\u001b[0m\u001b[1;36m222\u001b[0m\u001b[1;33m,\u001b[0m\u001b[1;36m336\u001b[0m\u001b[1;33m)\u001b[0m\u001b[1;33m]\u001b[0m\u001b[1;33m)\u001b[0m\u001b[1;33m\u001b[0m\u001b[1;33m\u001b[0m\u001b[0m\n\u001b[0m",
      "\u001b[1;32m<ipython-input-2-ce695aa9f6fd>\u001b[0m in \u001b[0;36m<listcomp>\u001b[1;34m(.0)\u001b[0m\n\u001b[1;32m----> 1\u001b[1;33m \u001b[0mtimes\u001b[0m \u001b[1;33m=\u001b[0m \u001b[0mnp\u001b[0m\u001b[1;33m.\u001b[0m\u001b[0marray\u001b[0m\u001b[1;33m(\u001b[0m\u001b[1;33m[\u001b[0m\u001b[0mutc2time\u001b[0m\u001b[1;33m(\u001b[0m\u001b[1;34m'asteroid/UCD_0'\u001b[0m\u001b[1;33m+\u001b[0m\u001b[0mstr\u001b[0m\u001b[1;33m(\u001b[0m\u001b[0mi\u001b[0m\u001b[1;33m)\u001b[0m\u001b[1;33m+\u001b[0m\u001b[1;34m'.fits'\u001b[0m\u001b[1;33m)\u001b[0m \u001b[1;32mfor\u001b[0m \u001b[0mi\u001b[0m \u001b[1;32min\u001b[0m \u001b[0mrange\u001b[0m\u001b[1;33m(\u001b[0m\u001b[1;36m222\u001b[0m\u001b[1;33m,\u001b[0m\u001b[1;36m336\u001b[0m\u001b[1;33m)\u001b[0m\u001b[1;33m]\u001b[0m\u001b[1;33m)\u001b[0m\u001b[1;33m\u001b[0m\u001b[1;33m\u001b[0m\u001b[0m\n\u001b[0m",
      "\u001b[1;31mNameError\u001b[0m: name 'utc2time' is not defined"
     ]
    }
   ],
   "source": [
    "times = np.array([utc2time('asteroid/UCD_0'+str(i)+'.fits') for i in range(222,336)])"
   ]
  },
  {
   "cell_type": "code",
   "execution_count": 6,
   "id": "5ebba161",
   "metadata": {},
   "outputs": [],
   "source": [
    "np.savetxt('times.txt', times)"
   ]
  },
  {
   "cell_type": "code",
   "execution_count": 9,
   "id": "ef60540c",
   "metadata": {
    "collapsed": true
   },
   "outputs": [
    {
     "data": {
      "text/plain": [
       "array([  0,   2,   3,   5,   7,   8,   9,  10,  11,  13,  14,  15,  16,\n",
       "        17,  19,  20,  21,  22,  23,  24,  26,  27,  28,  29,  30,  32,\n",
       "        33,  34,  35,  36,  38,  39,  40,  41,  42,  44,  45,  46,  47,\n",
       "        48,  50,  51,  47,  48,  49,  51,  52,  53,  54,  55,  57,  58,\n",
       "        59,  60,  61,  63,  64,  65,  66,  67,  69,  70,  71,  75,  77,\n",
       "        78,  79,  80,  82,  83,  84,  85,  86,  88,  89,  90,  91,  92,\n",
       "        94,  95,  96,  97,  98, 100, 101, 102, 103, 104, 106, 107, 108,\n",
       "       109, 110, 111, 113, 114, 115, 116, 117, 119, 120, 121, 122, 123,\n",
       "       125, 126, 127, 128, 129, 131, 132, 133, 134, 135])"
      ]
     },
     "execution_count": 9,
     "metadata": {},
     "output_type": "execute_result"
    }
   ],
   "source": [
    "times"
   ]
  },
  {
   "cell_type": "code",
   "execution_count": 8,
   "id": "8fb57ef4",
   "metadata": {},
   "outputs": [
    {
     "data": {
      "text/plain": [
       "135"
      ]
     },
     "execution_count": 8,
     "metadata": {},
     "output_type": "execute_result"
    }
   ],
   "source": [
    "utc2time('asteroid/UCD_0335.fits')"
   ]
  },
  {
   "cell_type": "code",
   "execution_count": 4,
   "id": "030c4ffd",
   "metadata": {},
   "outputs": [],
   "source": [
    "c = SkyCoord('11 26 06.255 -13 47 51.00', unit=(u.hourangle, u.deg))"
   ]
  },
  {
   "cell_type": "code",
   "execution_count": 73,
   "id": "fd344a74",
   "metadata": {},
   "outputs": [],
   "source": [
    "from astropy.io import ascii\n",
    "df = (ascii.read('170891.eph', data_start = 4, delimiter=' ')).to_pandas()"
   ]
  },
  {
   "cell_type": "code",
   "execution_count": 191,
   "id": "d89f1c4f",
   "metadata": {},
   "outputs": [
    {
     "data": {
      "text/plain": [
       "SIMPLE  =                    T / file does conform to FITS standard             \n",
       "BITPIX  =                   16 / number of bits per data pixel                  \n",
       "NAXIS   =                    2 / number of data axes                            \n",
       "NAXIS1  =                 2048 / length of data axis 1                          \n",
       "NAXIS2  =                 2056 / length of data axis 2                          \n",
       "EXTEND  =                    T / FITS dataset may contain extensions            \n",
       "COMMENT   FITS (Flexible Image Transport System) format is defined in 'Astronomy\n",
       "COMMENT   and Astrophysics', volume 376, page 359; bibcode: 2001A&A...376..359H \n",
       "BZERO   =                32768 / offset data range to that of unsigned short    \n",
       "BSCALE  =                    1 / default scaling factor                         \n",
       "DATE    = '2022-03-11T02:53:00' / file creation date (YYYY-MM-DDThh:mm:ss UT)   \n",
       "OBSERVAT= 'CAHA    '           / Observatory name                               \n",
       "OBSCODE = '493     '           / IAU observatory code                           \n",
       "TELESCOP= 'CA 1.23m'           / Telescope name                                 \n",
       "INSTRUME= 'DLR-MKIII'          / Instrument name                                \n",
       "FLENGTH =                9880. / Focal length of telecope in mm                 \n",
       "APTDIA  =               1228.8 / Aperture diameter in mm                        \n",
       "OBSTRUC =               0.2243 / Obstruction (0..1)                             \n",
       "NREFLECT=                    2 / Number of reflections in path                  \n",
       "CCDNAME = 'e2v CCD231-84-NIMO-BI-DD' / Detector name                            \n",
       "OBSERVER= 'UCD     '           / Name of observer                               \n",
       "OBJECT  = 'asteroid'           / Target name                                    \n",
       "IMAGETYP= 'science '           / Observation type                               \n",
       "OBSTYPE = 'science '           / Describes for which use was the image taken    \n",
       "DATE-OBS= '2022-03-11T02:51:50.260' / UTC Date and time of start of exposure    \n",
       "MJD-OBS =       59649.11933172 / MJD of start of exposure                       \n",
       "EPOMJD  =       59649.11933172 / MJD of start of exposure                       \n",
       "EXPTIME =                  60. / Integration time in s                          \n",
       "DARKTIME=               60.312 / Total dark time in s (excluding readout time)  \n",
       "RA      =           171.476834 / RA of img center in decimal deg (11h25m54.44s) \n",
       "DEC     =            -14.38611 / Dec of img center in decimal deg (-14:23:10.0) \n",
       "EQUINOX =                2000. / Used coordinate system                         \n",
       "RA-DATE =           171.756365 / RA of date in decimal deg (11h27m01.53s)       \n",
       "DEC-DATE=            -14.50845 / Dec of date in decimal deg (-14:30:30.4)       \n",
       "TRACKING= 'SIDEREAL'           / Tracking of telescope                          \n",
       "RATRACK =                   0. / Offset tracking in \"/min                       \n",
       "DECTRACK=                   0. / Offset tracking in \"/min                       \n",
       "HA      =            37.415882 / 02h29m39.81s                                   \n",
       "LST     =           209.172246 / 13h56m41.34s                                   \n",
       "AIRMASS =                2.165 / Airmass                                        \n",
       "AZ      =              41.5094 / 041:30:33.8                                    \n",
       "ALT     =              27.4359 / +27:26:09.2                                    \n",
       "DOME_TAR=              59.9933 / Dome target azimuth in deg                     \n",
       "DOME_AZ =                  59. / Dome actual azimuth in deg                     \n",
       "INSFLNUM=                    2 / Filter number                                  \n",
       "FILTER  = 'V       '           / Filter name                                    \n",
       "INSFLNAM= 'V       '           / Filter name                                    \n",
       "FOCUS   =               46.655 / Focus position in mm                           \n",
       "RINGTEMP=                  2.1 / Temperature of the mirror ring adapter in deg C\n",
       "CCDBINX =                    2 / Column binning factor                          \n",
       "CCDBINY =                    2 / Row binning factor                             \n",
       "XBINNING=                    2 / Column binning factor                          \n",
       "YBINNING=                    2 / Row binning factor                             \n",
       "CCDSPEED= 'normal  '           / Readout speed                                  \n",
       "OUT-AMP =                    0 / Output amplifier: 0=a0; 1=a1; 2=a2; 3=a3; 4=All\n",
       "GAIN    =                 2.79 / CCD gain in el/DN                              \n",
       "DATASEC = '[0,0,4096,4112]'    / Pre-binning data section [X1,Y1,X2,Y2]         \n",
       "ORIGSECX=                 4096 / Original CCD number of columns                 \n",
       "ORIGSECY=                 4112 / Original CCD number of rows                    \n",
       "CCDPSIZ =                0.015 / Pixel size in mm of one unbinned px            \n",
       "SCALE   =               0.3132 / Pixel scale in arcsec of one unbinned px       \n",
       "CCD-TEMP=               -100.9 / CCD measured temperature in deg C              \n",
       "SETTEMP =                -100. / CCD target temperature in deg C                \n",
       "DEWAR-DT=                  -2. / Dewar-Air delta-T in deg C                     \n",
       "IMGSTATS=               821.95 / Average signal level of the ROI in DN          "
      ]
     },
     "execution_count": 191,
     "metadata": {},
     "output_type": "execute_result"
    }
   ],
   "source": [
    "g = pf.open('asteroid/UCD_0304.fits')\n",
    "g[0].header"
   ]
  },
  {
   "cell_type": "markdown",
   "id": "d84d0990",
   "metadata": {},
   "source": [
    "### Velocity"
   ]
  },
  {
   "cell_type": "code",
   "execution_count": 3,
   "id": "96a7624e",
   "metadata": {},
   "outputs": [],
   "source": [
    "#01:08:34.680\n",
    "#01:49:43.312\n",
    "#02:19:36.873\n",
    "#######02:51:50.260\n",
    "#02:54:13.728\n",
    "#03:28:54.473"
   ]
  },
  {
   "cell_type": "code",
   "execution_count": 4,
   "id": "5878283c",
   "metadata": {},
   "outputs": [],
   "source": [
    "t = 0\n",
    "t1 = (40*60)+ 8.632\n",
    "t2 = (29*60)+ (16.688+36.873)\n",
    "t3 = (31*60)+(23.127+50.26)\n",
    "#t3 = (34*60)+(23.127+13.728)\n",
    "t4 = (33*60)+(46.272+54.473)\n",
    "t5 = t1+t2+t3+t4"
   ]
  },
  {
   "cell_type": "code",
   "execution_count": 5,
   "id": "51f820fd",
   "metadata": {},
   "outputs": [
    {
     "data": {
      "text/plain": [
       "8216.325"
      ]
     },
     "execution_count": 5,
     "metadata": {},
     "output_type": "execute_result"
    }
   ],
   "source": [
    "t5"
   ]
  },
  {
   "cell_type": "code",
   "execution_count": 6,
   "id": "995e96a6",
   "metadata": {},
   "outputs": [],
   "source": [
    "p1coords = np.loadtxt('position1_coords.txt')"
   ]
  },
  {
   "cell_type": "code",
   "execution_count": 7,
   "id": "fb40dc69",
   "metadata": {},
   "outputs": [
    {
     "data": {
      "text/plain": [
       "<SkyCoord (FK5: equinox=2000.0): (ra, dec) in deg\n",
       "    (171.47369198, -14.3409151)>"
      ]
     },
     "execution_count": 7,
     "metadata": {},
     "output_type": "execute_result"
    }
   ],
   "source": [
    "image = pf.open('astrometry/new-image.fits')\n",
    "time = 0\n",
    "wcs = WCS(image[0].header)\n",
    "sky = wcs.pixel_to_world(p1coords[0,0], p1coords[0,1])\n",
    "sky"
   ]
  },
  {
   "cell_type": "code",
   "execution_count": 8,
   "id": "819673c4",
   "metadata": {},
   "outputs": [
    {
     "data": {
      "text/plain": [
       "SIMPLE  =                    T / conforms to FITS standard                      \n",
       "BITPIX  =                  -64 / array data type                                \n",
       "NAXIS   =                    2 / number of array dimensions                     \n",
       "NAXIS1  =                  800                                                  \n",
       "NAXIS2  =                  700                                                  \n",
       "EXTEND  =                    T                                                  \n",
       "COMMENT Original key: \"END\"                                                     \n",
       "COMMENT                                                                         \n",
       "COMMENT --Start of Astrometry.net WCS solution--                                \n",
       "COMMENT --Put in by the new-wcs program--                                       \n",
       "COMMENT                                                                         \n",
       "WCSAXES =                    2 / no comment                                     \n",
       "CTYPE1  = 'RA---TAN-SIP' / TAN (gnomic) projection + SIP distortions            \n",
       "CTYPE2  = 'DEC--TAN-SIP' / TAN (gnomic) projection + SIP distortions            \n",
       "EQUINOX =               2000.0 / Equatorial coordinates definition (yr)         \n",
       "LONPOLE =                180.0 / no comment                                     \n",
       "LATPOLE =                  0.0 / no comment                                     \n",
       "CRVAL1  =        171.479401294 / RA  of reference point                         \n",
       "CRVAL2  =       -14.3080786223 / DEC of reference point                         \n",
       "CRPIX1  =         290.01200676 / X reference pixel                              \n",
       "CRPIX2  =        320.914031982 / Y reference pixel                              \n",
       "CUNIT1  = 'deg     ' / X pixel scale units                                      \n",
       "CUNIT2  = 'deg     ' / Y pixel scale units                                      \n",
       "CD1_1   =   -0.000174118623117 / Transformation matrix                          \n",
       "CD1_2   =    3.41764884735E-06 / no comment                                     \n",
       "CD2_1   =   -3.44447820774E-06 / no comment                                     \n",
       "CD2_2   =   -0.000174119444794 / no comment                                     \n",
       "IMAGEW  =                  800 / Image width,  in pixels.                       \n",
       "IMAGEH  =                  700 / Image height, in pixels.                       \n",
       "A_ORDER =                    2 / Polynomial order, axis 1                       \n",
       "A_0_0   =                    0 / no comment                                     \n",
       "A_0_1   =                    0 / no comment                                     \n",
       "A_0_2   =   -2.73610885401E-06 / no comment                                     \n",
       "A_1_0   =                    0 / no comment                                     \n",
       "A_1_1   =      2.501866171E-06 / no comment                                     \n",
       "A_2_0   =   -6.66736339873E-07 / no comment                                     \n",
       "B_ORDER =                    2 / Polynomial order, axis 2                       \n",
       "B_0_0   =                    0 / no comment                                     \n",
       "B_0_1   =                    0 / no comment                                     \n",
       "B_0_2   =    2.14526843443E-06 / no comment                                     \n",
       "B_1_0   =                    0 / no comment                                     \n",
       "B_1_1   =   -3.58018986071E-06 / no comment                                     \n",
       "B_2_0   =    2.57361903719E-06 / no comment                                     \n",
       "AP_ORDER=                    2 / Inv polynomial order, axis 1                   \n",
       "AP_0_0  =   -0.000156373551166 / no comment                                     \n",
       "AP_0_1  =   -2.89645641421E-06 / no comment                                     \n",
       "AP_0_2  =    2.73829862318E-06 / no comment                                     \n",
       "AP_1_0  =    2.16215924056E-06 / no comment                                     \n",
       "AP_1_1  =   -2.50599934721E-06 / no comment                                     \n",
       "AP_2_0  =    6.68328279515E-07 / no comment                                     \n",
       "BP_ORDER=                    2 / Inv polynomial order, axis 2                   \n",
       "BP_0_0  =    0.000246061957112 / no comment                                     \n",
       "BP_0_1  =    3.49923662012E-06 / no comment                                     \n",
       "BP_0_2  =   -2.14864880569E-06 / no comment                                     \n",
       "BP_1_0  =   -3.06761799673E-06 / no comment                                     \n",
       "BP_1_1  =    3.58610779578E-06 / no comment                                     \n",
       "BP_2_0  =   -2.57664160762E-06 / no comment                                     \n",
       "HISTORY Created by the Astrometry.net suite.                                    \n",
       "HISTORY For more details, see http://astrometry.net.                            \n",
       "HISTORY Git URL https://github.com/dstndstn/astrometry.net                      \n",
       "HISTORY Git revision 0.84-29-g3201e05b                                          \n",
       "HISTORY Git date Wed_Feb_10_20:23:44_2021_+0000                                 \n",
       "HISTORY This is a WCS header was created by Astrometry.net.                     \n",
       "DATE    = '2022-04-22T14:32:49' / Date this file was created.                   \n",
       "COMMENT -- onefield solver parameters: --                                       \n",
       "COMMENT Index(0): /data1/INDEXES/200/index-219.fits                             \n",
       "COMMENT Index(1): /data1/INDEXES/200/index-218.fits                             \n",
       "COMMENT Index(2): /data1/INDEXES/200/index-217.fits                             \n",
       "COMMENT Index(3): /data1/INDEXES/200/index-216.fits                             \n",
       "COMMENT Index(4): /data1/INDEXES/200/index-215.fits                             \n",
       "COMMENT Index(5): /data1/INDEXES/200/index-214.fits                             \n",
       "COMMENT Index(6): /data1/INDEXES/200/index-213.fits                             \n",
       "COMMENT Index(7): /data1/INDEXES/200/index-212.fits                             \n",
       "COMMENT Index(8): /data1/INDEXES/200/index-211.fits                             \n",
       "COMMENT Index(9): /data1/INDEXES/200/index-210.fits                             \n",
       "COMMENT Index(10): /data1/INDEXES/200/index-209.fits                            \n",
       "COMMENT Index(11): /data1/INDEXES/200/index-208.fits                            \n",
       "COMMENT Index(12): /data1/INDEXES/200/index-207.fits                            \n",
       "COMMENT Index(13): /data1/INDEXES/200/index-206.fits                            \n",
       "COMMENT Index(14): /data1/INDEXES/200/index-205.fits                            \n",
       "COMMENT Index(15): /data1/INDEXES/200/index-204-11.fits                         \n",
       "COMMENT Index(16): /data1/INDEXES/200/index-204-10.fits                         \n",
       "COMMENT Index(17): /data1/INDEXES/200/index-204-09.fits                         \n",
       "COMMENT Index(18): /data1/INDEXES/200/index-204-08.fits                         \n",
       "COMMENT Index(19): /data1/INDEXES/200/index-204-07.fits                         \n",
       "COMMENT Index(20): /data1/INDEXES/200/index-204-06.fits                         \n",
       "COMMENT Index(21): /data1/INDEXES/200/index-204-05.fits                         \n",
       "COMMENT Index(22): /data1/INDEXES/200/index-204-04.fits                         \n",
       "COMMENT Index(23): /data1/INDEXES/200/index-204-03.fits                         \n",
       "COMMENT Index(24): /data1/INDEXES/200/index-204-02.fits                         \n",
       "COMMENT Index(25): /data1/INDEXES/200/index-204-01.fits                         \n",
       "COMMENT Index(26): /data1/INDEXES/200/index-204-00.fits                         \n",
       "COMMENT Index(27): /data1/INDEXES/200/index-203-11.fits                         \n",
       "COMMENT Index(28): /data1/INDEXES/200/index-203-10.fits                         \n",
       "COMMENT Index(29): /data1/INDEXES/200/index-203-09.fits                         \n",
       "COMMENT Index(30): /data1/INDEXES/200/index-203-08.fits                         \n",
       "COMMENT Index(31): /data1/INDEXES/200/index-203-07.fits                         \n",
       "COMMENT Index(32): /data1/INDEXES/200/index-203-06.fits                         \n",
       "COMMENT Index(33): /data1/INDEXES/200/index-203-05.fits                         \n",
       "COMMENT Index(34): /data1/INDEXES/200/index-203-04.fits                         \n",
       "COMMENT Index(35): /data1/INDEXES/200/index-203-03.fits                         \n",
       "COMMENT Index(36): /data1/INDEXES/200/index-203-02.fits                         \n",
       "COMMENT Index(37): /data1/INDEXES/200/index-203-01.fits                         \n",
       "COMMENT Index(38): /data1/INDEXES/200/index-203-00.fits                         \n",
       "COMMENT Index(39): /data1/INDEXES/200/index-202-11.fits                         \n",
       "COMMENT Index(40): /data1/INDEXES/200/index-202-10.fits                         \n",
       "COMMENT Index(41): /data1/INDEXES/200/index-202-09.fits                         \n",
       "COMMENT Index(42): /data1/INDEXES/200/index-202-08.fits                         \n",
       "COMMENT Index(43): /data1/INDEXES/200/index-202-07.fits                         \n",
       "COMMENT Index(44): /data1/INDEXES/200/index-202-06.fits                         \n",
       "COMMENT Index(45): /data1/INDEXES/200/index-202-05.fits                         \n",
       "COMMENT Index(46): /data1/INDEXES/200/index-202-04.fits                         \n",
       "COMMENT Index(47): /data1/INDEXES/200/index-202-03.fits                         \n",
       "COMMENT Index(48): /data1/INDEXES/200/index-202-02.fits                         \n",
       "COMMENT Index(49): /data1/INDEXES/200/index-202-01.fits                         \n",
       "COMMENT Index(50): /data1/INDEXES/200/index-202-00.fits                         \n",
       "COMMENT Index(51): /data1/INDEXES/200/index-201-11.fits                         \n",
       "COMMENT Index(52): /data1/INDEXES/200/index-201-10.fits                         \n",
       "COMMENT Index(53): /data1/INDEXES/200/index-201-09.fits                         \n",
       "COMMENT Index(54): /data1/INDEXES/200/index-201-08.fits                         \n",
       "COMMENT Index(55): /data1/INDEXES/200/index-201-07.fits                         \n",
       "COMMENT Index(56): /data1/INDEXES/200/index-201-06.fits                         \n",
       "COMMENT Index(57): /data1/INDEXES/200/index-201-05.fits                         \n",
       "COMMENT Index(58): /data1/INDEXES/200/index-201-04.fits                         \n",
       "COMMENT Index(59): /data1/INDEXES/200/index-201-03.fits                         \n",
       "COMMENT Index(60): /data1/INDEXES/200/index-201-02.fits                         \n",
       "COMMENT Index(61): /data1/INDEXES/200/index-201-01.fits                         \n",
       "COMMENT Index(62): /data1/INDEXES/200/index-201-00.fits                         \n",
       "COMMENT Index(63): /data1/INDEXES/200/index-200-11.fits                         \n",
       "COMMENT Index(64): /data1/INDEXES/200/index-200-10.fits                         \n",
       "COMMENT Index(65): /data1/INDEXES/200/index-200-09.fits                         \n",
       "COMMENT Index(66): /data1/INDEXES/200/index-200-08.fits                         \n",
       "COMMENT Index(67): /data1/INDEXES/200/index-200-07.fits                         \n",
       "COMMENT Index(68): /data1/INDEXES/200/index-200-06.fits                         \n",
       "COMMENT Index(69): /data1/INDEXES/200/index-200-05.fits                         \n",
       "COMMENT Index(70): /data1/INDEXES/200/index-200-04.fits                         \n",
       "COMMENT Index(71): /data1/INDEXES/200/index-200-03.fits                         \n",
       "COMMENT Index(72): /data1/INDEXES/200/index-200-02.fits                         \n",
       "COMMENT Index(73): /data1/INDEXES/200/index-200-01.fits                         \n",
       "COMMENT Index(74): /data1/INDEXES/200/index-200-00.fits                         \n",
       "COMMENT Index(75): /data1/INDEXES/4100/index-4119.fits                          \n",
       "COMMENT Index(76): /data1/INDEXES/4100/index-4118.fits                          \n",
       "COMMENT Index(77): /data1/INDEXES/4100/index-4117.fits                          \n",
       "COMMENT Index(78): /data1/INDEXES/4100/index-4116.fits                          \n",
       "COMMENT Index(79): /data1/INDEXES/4100/index-4115.fits                          \n",
       "COMMENT Index(80): /data1/INDEXES/4100/index-4114.fits                          \n",
       "COMMENT Index(81): /data1/INDEXES/4100/index-4113.fits                          \n",
       "COMMENT Index(82): /data1/INDEXES/4100/index-4112.fits                          \n",
       "COMMENT Index(83): /data1/INDEXES/4100/index-4111.fits                          \n",
       "COMMENT Index(84): /data1/INDEXES/4100/index-4110.fits                          \n",
       "COMMENT Index(85): /data1/INDEXES/4100/index-4109.fits                          \n",
       "COMMENT Index(86): /data1/INDEXES/4100/index-4108.fits                          \n",
       "COMMENT Index(87): /data1/INDEXES/4100/index-4107.fits                          \n",
       "COMMENT Index(88): /data1/INDEXES/5000-nova/index-5202-12.fits                  \n",
       "COMMENT Index(89): /data1/INDEXES/5000-nova/index-5004-41.fits                  \n",
       "COMMENT Index(90): /data1/INDEXES/5000-nova/index-5003-41.fits                  \n",
       "COMMENT Index(91): /data1/INDEXES/5000-nova/index-5003-40.fits                  \n",
       "COMMENT Index(92): /data1/INDEXES/5000-nova/index-5002-41.fits                  \n",
       "COMMENT Index(93): /data1/INDEXES/5000-nova/index-5001-41.fits                  \n",
       "COMMENT Field name: job.axy                                                     \n",
       "COMMENT Field scale lower: 0.45 arcsec/pixel                                    \n",
       "COMMENT Field scale upper: 810 arcsec/pixel                                     \n",
       "COMMENT X col name: X                                                           \n",
       "COMMENT Y col name: Y                                                           \n",
       "COMMENT Start obj: 0                                                            \n",
       "COMMENT End obj: 0                                                              \n",
       "COMMENT Solved_in: (null)                                                       \n",
       "COMMENT Solved_out: (null)                                                      \n",
       "COMMENT Parity: 2                                                               \n",
       "COMMENT Codetol: 0.01                                                           \n",
       "COMMENT Verify pixels: 1 pix                                                    \n",
       "COMMENT Maxquads: 0                                                             \n",
       "COMMENT Maxmatches: 0                                                           \n",
       "COMMENT Cpu limit: 600.000000 s                                                 \n",
       "COMMENT Time limit: 0 s                                                         \n",
       "COMMENT Total time limit: 0 s                                                   \n",
       "COMMENT Total CPU limit: 0.000000 s                                             \n",
       "COMMENT Tweak: yes                                                              \n",
       "COMMENT Tweak AB order: 2                                                       \n",
       "COMMENT Tweak ABP order: 2                                                      \n",
       "COMMENT --                                                                      \n",
       "COMMENT -- properties of the matching quad: --                                  \n",
       "COMMENT index id: 202                                                           \n",
       "COMMENT index healpix: 6                                                        \n",
       "COMMENT index hpnside: 1                                                        \n",
       "COMMENT log odds: 178.932                                                       \n",
       "COMMENT odds: 5.11968e+77                                                       \n",
       "COMMENT quadno: 2267789                                                         \n",
       "COMMENT stars: 4141216,4141225,4141218,4141220                                  \n",
       "COMMENT field: 10,0,1,7                                                         \n",
       "COMMENT code error: 0.00650407                                                  \n",
       "COMMENT nmatch: 35                                                              \n",
       "COMMENT nconflict: 1                                                            \n",
       "COMMENT nfield: 83                                                              \n",
       "COMMENT nindex: 37                                                              \n",
       "COMMENT scale: 0.62695 arcsec/pix                                               \n",
       "COMMENT parity: 1                                                               \n",
       "COMMENT quads tried: 9213                                                       \n",
       "COMMENT quads matched: 46961                                                    \n",
       "COMMENT quads verified: 45395                                                   \n",
       "COMMENT objs tried: 11                                                          \n",
       "COMMENT cpu time: 2.54504                                                       \n",
       "COMMENT --                                                                      \n",
       "COMMENT                                                                         \n",
       "COMMENT --End of Astrometry.net WCS--                                           \n",
       "COMMENT --(Put in by the new-wcs program)--                                     \n",
       "COMMENT                                                                         "
      ]
     },
     "execution_count": 8,
     "metadata": {},
     "output_type": "execute_result"
    }
   ],
   "source": [
    "image[0].header"
   ]
  },
  {
   "cell_type": "code",
   "execution_count": 9,
   "id": "af76a049",
   "metadata": {},
   "outputs": [
    {
     "ename": "NameError",
     "evalue": "name 'image1' is not defined",
     "output_type": "error",
     "traceback": [
      "\u001b[1;31m---------------------------------------------------------------------------\u001b[0m",
      "\u001b[1;31mNameError\u001b[0m                                 Traceback (most recent call last)",
      "\u001b[1;32m<ipython-input-9-32d0697abc87>\u001b[0m in \u001b[0;36m<module>\u001b[1;34m\u001b[0m\n\u001b[1;32m----> 1\u001b[1;33m \u001b[0mimage1\u001b[0m\u001b[1;33m[\u001b[0m\u001b[1;36m0\u001b[0m\u001b[1;33m]\u001b[0m\u001b[1;33m.\u001b[0m\u001b[0mheader\u001b[0m\u001b[1;33m\u001b[0m\u001b[1;33m\u001b[0m\u001b[0m\n\u001b[0m",
      "\u001b[1;31mNameError\u001b[0m: name 'image1' is not defined"
     ]
    }
   ],
   "source": [
    "image1[0].header"
   ]
  },
  {
   "cell_type": "code",
   "execution_count": 13,
   "id": "fccf11d9",
   "metadata": {},
   "outputs": [
    {
     "data": {
      "text/plain": [
       "<SkyCoord (FK5: equinox=2000.0): (ra, dec) in deg\n",
       "    (171.47066621, -14.35613622)>"
      ]
     },
     "execution_count": 13,
     "metadata": {},
     "output_type": "execute_result"
    }
   ],
   "source": [
    "image1 = pf.open('astrometry/new-image (1).fits')\n",
    "wcs = WCS(image1[0].header)\n",
    "sky1 = wcs.pixel_to_world(p1coords[255-222,0], p1coords[255-222,1])\n",
    "sky1"
   ]
  },
  {
   "cell_type": "code",
   "execution_count": 14,
   "id": "e2c75ded",
   "metadata": {},
   "outputs": [
    {
     "data": {
      "text/plain": [
       "<SkyCoord (FK5: equinox=2000.0): (ra, dec) in deg\n",
       "    (171.4685124, -14.36701322)>"
      ]
     },
     "execution_count": 14,
     "metadata": {},
     "output_type": "execute_result"
    }
   ],
   "source": [
    "image2 = pf.open('astrometry/new-image (2).fits')\n",
    "wcs = WCS(image2[0].header)\n",
    "sky2 = wcs.pixel_to_world(p1coords[280-222,0], p1coords[280-222,1])\n",
    "sky2"
   ]
  },
  {
   "cell_type": "code",
   "execution_count": 15,
   "id": "a41cc8df",
   "metadata": {},
   "outputs": [
    {
     "data": {
      "text/plain": [
       "<SkyCoord (FK5: equinox=2000.0): (ra, dec) in deg\n",
       "    (171.46985455, -14.39655567)>"
      ]
     },
     "execution_count": 15,
     "metadata": {},
     "output_type": "execute_result"
    }
   ],
   "source": [
    "image3 = pf.open('astrometry/new-image (3).fits')\n",
    "wcs = WCS(image3[0].header)\n",
    "sky3 = wcs.pixel_to_world(p1coords[306-285,0], p1coords[306-285,1])\n",
    "sky3"
   ]
  },
  {
   "cell_type": "code",
   "execution_count": 16,
   "id": "f34b34c2",
   "metadata": {},
   "outputs": [
    {
     "data": {
      "text/plain": [
       "<SkyCoord (FK5: equinox=2000.0): (ra, dec) in deg\n",
       "    (171.46693206, -14.40977369)>"
      ]
     },
     "execution_count": 16,
     "metadata": {},
     "output_type": "execute_result"
    }
   ],
   "source": [
    "image4 = pf.open('astrometry/new-image ye.fits')\n",
    "wcs = WCS(image4[0].header)\n",
    "sky4 = wcs.pixel_to_world(p1coords[335-285,0], p1coords[335-285,1])\n",
    "sky4"
   ]
  },
  {
   "cell_type": "code",
   "execution_count": 17,
   "id": "db64695d",
   "metadata": {},
   "outputs": [],
   "source": [
    "radec = np.array([171.47369198, -14.3409151])\n",
    "radec1 = np.array([171.47066621, -14.35613622])\n",
    "radec2 = np.array([171.4685124, -14.36701322])\n",
    "radec3 = np.array([171.46693206, -14.40977369])\n",
    "#radec3 = np.array([171.46985455, -14.39655567])\n",
    "radec4 = np.array([171.47087916, -14.39571322])"
   ]
  },
  {
   "cell_type": "code",
   "execution_count": 20,
   "id": "19028ae0",
   "metadata": {},
   "outputs": [
    {
     "data": {
      "text/plain": [
       "array([-0.00281282, -0.05479812])"
      ]
     },
     "execution_count": 20,
     "metadata": {},
     "output_type": "execute_result"
    }
   ],
   "source": [
    "radec4 - radec"
   ]
  },
  {
   "cell_type": "code",
   "execution_count": 18,
   "id": "418ae24f",
   "metadata": {},
   "outputs": [],
   "source": [
    "zeroone = np.array([radec1[0]-radec[0], radec1[1]-radec[1], t1])\n",
    "onetwo = np.array([radec2[0]-radec1[0], radec2[1]-radec1[1], t2])\n",
    "twothree = np.array([radec3[0]-radec2[0], radec3[1]-radec2[1], t3])\n",
    "threefour = np.array([radec4[0]-radec3[0], radec4[1]-radec3[1], t4])\n",
    "five = np.array([radec4[0]-radec[0], radec4[1]-radec[1], t5])"
   ]
  },
  {
   "cell_type": "code",
   "execution_count": 19,
   "id": "44b2e597",
   "metadata": {},
   "outputs": [
    {
     "data": {
      "text/plain": [
       "array([-2.812820e-03, -5.479812e-02,  8.216325e+03])"
      ]
     },
     "execution_count": 19,
     "metadata": {},
     "output_type": "execute_result"
    }
   ],
   "source": [
    "five"
   ]
  },
  {
   "cell_type": "code",
   "execution_count": 197,
   "id": "5e0cd9c4",
   "metadata": {},
   "outputs": [],
   "source": [
    "def angvel(dra, ddec, dt):\n",
    "    av = np.sqrt((dra*3600)**2 + (ddec*3600)**2) / dt   #angular velocity in \"/s\n",
    "    return av"
   ]
  },
  {
   "cell_type": "code",
   "execution_count": 198,
   "id": "efe8ce64",
   "metadata": {},
   "outputs": [
    {
     "data": {
      "text/plain": [
       "array([-3.025770e-03, -1.522112e-02,  2.408632e+03])"
      ]
     },
     "execution_count": 198,
     "metadata": {},
     "output_type": "execute_result"
    }
   ],
   "source": [
    "zeroone"
   ]
  },
  {
   "cell_type": "code",
   "execution_count": 199,
   "id": "d6c95ce5",
   "metadata": {},
   "outputs": [
    {
     "data": {
      "text/plain": [
       "array([-2.153810e-03, -1.087700e-02,  1.793561e+03])"
      ]
     },
     "execution_count": 199,
     "metadata": {},
     "output_type": "execute_result"
    }
   ],
   "source": [
    "onetwo"
   ]
  },
  {
   "cell_type": "code",
   "execution_count": 200,
   "id": "d49080f1",
   "metadata": {},
   "outputs": [
    {
     "data": {
      "text/plain": [
       "array([-1.580340e-03, -4.276047e-02,  1.933387e+03])"
      ]
     },
     "execution_count": 200,
     "metadata": {},
     "output_type": "execute_result"
    }
   ],
   "source": [
    "twothree"
   ]
  },
  {
   "cell_type": "code",
   "execution_count": 201,
   "id": "03ac0572",
   "metadata": {},
   "outputs": [
    {
     "data": {
      "text/plain": [
       "array([3.947100e-03, 1.406047e-02, 2.080745e+03])"
      ]
     },
     "execution_count": 201,
     "metadata": {},
     "output_type": "execute_result"
    }
   ],
   "source": [
    "threefour"
   ]
  },
  {
   "cell_type": "code",
   "execution_count": 202,
   "id": "237ea6b8",
   "metadata": {},
   "outputs": [
    {
     "data": {
      "text/plain": [
       "0.02404152120652223"
      ]
     },
     "execution_count": 202,
     "metadata": {},
     "output_type": "execute_result"
    }
   ],
   "source": [
    "av = angvel(*zeroone)\n",
    "av1 = angvel(*onetwo)\n",
    "av2 = angvel(*twothree)\n",
    "av3 = angvel(*threefour)\n",
    "av5 = angvel(*five)\n",
    "av5"
   ]
  },
  {
   "cell_type": "code",
   "execution_count": 203,
   "id": "f7ce1df7",
   "metadata": {},
   "outputs": [],
   "source": [
    "distance = 33300486.015816603 #in km"
   ]
  },
  {
   "cell_type": "code",
   "execution_count": 204,
   "id": "80ca5f8a",
   "metadata": {},
   "outputs": [],
   "source": [
    "def TV(AV):\n",
    "    TV = (AV*distance)/206265\n",
    "    return TV"
   ]
  },
  {
   "cell_type": "code",
   "execution_count": 205,
   "id": "c9b2b800",
   "metadata": {},
   "outputs": [],
   "source": [
    "tv = TV(av)\n",
    "tv1 = TV(av1)\n",
    "tv2 = TV(av2)\n",
    "tv3 = TV(av3)\n",
    "tv5 = TV(av5)"
   ]
  },
  {
   "cell_type": "code",
   "execution_count": 217,
   "id": "21669478",
   "metadata": {},
   "outputs": [
    {
     "data": {
      "text/plain": [
       "3.7447203064277628"
      ]
     },
     "execution_count": 217,
     "metadata": {},
     "output_type": "execute_result"
    }
   ],
   "source": [
    "tv"
   ]
  },
  {
   "cell_type": "markdown",
   "id": "b22ca253",
   "metadata": {},
   "source": [
    "### Errors on Vt"
   ]
  },
  {
   "cell_type": "code",
   "execution_count": 246,
   "id": "59bee04f",
   "metadata": {},
   "outputs": [],
   "source": [
    "def Gauss(x, a, x0, sigma):\n",
    "    return a * np.exp(-(x - x0)**2 / (2 * sigma**2))\n",
    "\n",
    "def error(filename, coords):\n",
    "    myfile = pf.getdata(filename)\n",
    "    positions = coords\n",
    "        \n",
    "    y = np.array(myfile[int(positions[1]), int(positions[0])-10:int(positions[0])+10])\n",
    "    x = np.linspace(0,len(y),len(y))\n",
    "        \n",
    "    mean = sum(x * y) / sum(y)\n",
    "    sigma = np.sqrt(sum(y * (x - mean)**2) / sum(y))\n",
    "    popt,pcov = curve_fit(Gauss, x, y, p0=[max(y), mean, sigma])\n",
    "            \n",
    "    xt = np.linspace(0, len(y), len(y))\n",
    "    ynew = Gauss(xt,*popt)\n",
    "            \n",
    "    sig = np.std(ynew)\n",
    "            \n",
    "    return ynew"
   ]
  },
  {
   "cell_type": "code",
   "execution_count": 221,
   "id": "5e4033d7",
   "metadata": {},
   "outputs": [
    {
     "data": {
      "text/plain": [
       "array([324.54856106, 507.7439333 ])"
      ]
     },
     "execution_count": 221,
     "metadata": {},
     "output_type": "execute_result"
    }
   ],
   "source": [
    "p1coords[0]"
   ]
  },
  {
   "cell_type": "code",
   "execution_count": 241,
   "id": "efeeb7c7",
   "metadata": {},
   "outputs": [
    {
     "data": {
      "text/plain": [
       "557.1976464894275"
      ]
     },
     "execution_count": 241,
     "metadata": {},
     "output_type": "execute_result"
    }
   ],
   "source": [
    "error('red_asteroid/reduced_UCD_0222.fits', p1coords[0])"
   ]
  },
  {
   "cell_type": "code",
   "execution_count": 259,
   "id": "b0b9c8a5",
   "metadata": {},
   "outputs": [
    {
     "data": {
      "text/plain": [
       "(5.0, 7.0)"
      ]
     },
     "execution_count": 259,
     "metadata": {},
     "output_type": "execute_result"
    },
    {
     "data": {
      "image/png": "[encoded data removed]",
      "text/plain": [
       "<Figure size 1080x648 with 1 Axes>"
      ]
     },
     "metadata": {
      "needs_background": "light"
     },
     "output_type": "display_data"
    }
   ],
   "source": [
    "plt.plot(error('red_asteroid/reduced_UCD_0222.fits', p1coords[0]))\n",
    "plt.axhline(y = 557)\n",
    "plt.xlim((5,7))"
   ]
  },
  {
   "cell_type": "code",
   "execution_count": 262,
   "id": "b606b21d",
   "metadata": {},
   "outputs": [
    {
     "data": {
      "text/plain": [
       "<matplotlib.lines.Line2D at 0x21f3297a748>"
      ]
     },
     "execution_count": 262,
     "metadata": {},
     "output_type": "execute_result"
    },
    {
     "data": {
      "image/png": "[encoded data removed]",
      "text/plain": [
       "<Figure size 1080x648 with 1 Axes>"
      ]
     },
     "metadata": {
      "needs_background": "light"
     },
     "output_type": "display_data"
    }
   ],
   "source": [
    "\n",
    "myfile = pf.getdata('red_asteroid/reduced_UCD_0222.fits')\n",
    "positions = p1coords[0]\n",
    "        \n",
    "y = np.array(myfile[int(positions[1]), int(positions[0])-10:int(positions[0])+10])\n",
    "x = np.linspace(0,len(y),len(y))\n",
    "        \n",
    "mean = sum(x * y) / sum(y)\n",
    "sigma = np.sqrt(sum(y * (x - mean)**2) / sum(y))\n",
    "popt,pcov = curve_fit(Gauss, x, y, p0=[max(y), mean, sigma])\n",
    "xt = np.linspace(0, len(y), len(y))\n",
    "ynew = Gauss(xt,*popt)\n",
    "\n",
    "x = np.linspace(0,20,100)\n",
    "pdf = norm.pdf(x, mean, sigma)\n",
    "plt.plot(x, pdf)\n",
    "plt.axvline(x = 6.25)\n",
    "plt.axhline(y = 0.055)"
   ]
  },
  {
   "cell_type": "markdown",
   "id": "80e8cc54",
   "metadata": {},
   "source": [
    "1 sigma is roughly 6.25pix = 1.875\"\n",
    "1.875\" = 0.0005 deg\n",
    "after propaggatnig errors this comes out to roughly 0.04"
   ]
  },
  {
   "cell_type": "code",
   "execution_count": null,
   "id": "5038e624",
   "metadata": {},
   "outputs": [],
   "source": []
  }
 ],
 "metadata": {
  "kernelspec": {
   "display_name": "Python 3",
   "language": "python",
   "name": "python3"
  },
  "language_info": {
   "codemirror_mode": {
    "name": "ipython",
    "version": 3
   },
   "file_extension": ".py",
   "mimetype": "text/x-python",
   "name": "python",
   "nbconvert_exporter": "python",
   "pygments_lexer": "ipython3",
   "version": "3.7.3"
  }
 },
 "nbformat": 4,
 "nbformat_minor": 5
}
